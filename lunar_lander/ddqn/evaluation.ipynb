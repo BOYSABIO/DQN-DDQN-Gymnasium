{
 "cells": [
  {
   "cell_type": "code",
   "execution_count": 1,
   "id": "f9683e42",
   "metadata": {},
   "outputs": [],
   "source": [
    "import os\n",
    "import torch\n",
    "import gymnasium as gym\n",
    "import torch.nn as nn\n",
    "import torch.nn.functional as F\n",
    "import numpy as np\n",
    "\n",
    "# ---------- DQN Definition ----------\n",
    "class DQN(nn.Module):\n",
    "    def __init__(self, input_size, output_size):\n",
    "        super(DQN, self).__init__()\n",
    "        self.fc1 = nn.Linear(input_size, 512)\n",
    "        self.fc2 = nn.Linear(512, 512)\n",
    "        self.fc3 = nn.Linear(512, 256)\n",
    "        self.fc4 = nn.Linear(256, output_size)\n",
    "        self.apply(self._init_weights)\n",
    "\n",
    "    def _init_weights(self, module):\n",
    "        if isinstance(module, nn.Linear):\n",
    "            torch.nn.init.xavier_uniform_(module.weight)\n",
    "            module.bias.data.fill_(0.01)\n",
    "\n",
    "    def forward(self, x):\n",
    "        x = F.relu(self.fc1(x))\n",
    "        x = F.relu(self.fc2(x))\n",
    "        x = F.relu(self.fc3(x))\n",
    "        return self.fc4(x)"
   ]
  },
  {
   "cell_type": "code",
   "execution_count": 2,
   "id": "3c122143",
   "metadata": {},
   "outputs": [],
   "source": [
    "# ---------- Evaluation Function ----------\n",
    "def evaluate_model(model, env, episodes=10):\n",
    "    rewards = []\n",
    "    for _ in range(episodes):\n",
    "        state, _ = env.reset()\n",
    "        total_reward = 0\n",
    "        done = False\n",
    "        while not done:\n",
    "            with torch.no_grad():\n",
    "                state_tensor = torch.FloatTensor(state).unsqueeze(0).to(device)\n",
    "                q_values = model(state_tensor)\n",
    "                action = q_values.argmax().item()\n",
    "            next_state, reward, terminated, truncated, _ = env.step(action)\n",
    "            state = next_state\n",
    "            total_reward += reward\n",
    "            done = terminated or truncated\n",
    "        rewards.append(total_reward)\n",
    "    return np.mean(rewards), np.std(rewards)"
   ]
  },
  {
   "cell_type": "code",
   "execution_count": 3,
   "id": "d2956faf",
   "metadata": {},
   "outputs": [
    {
     "name": "stdout",
     "output_type": "stream",
     "text": [
      "Using device: mps\n"
     ]
    }
   ],
   "source": [
    "\n",
    "# ---------- Setup ----------\n",
    "device = torch.device(\"cuda\" if torch.cuda.is_available()\n",
    "                      else \"mps\" if torch.backends.mps.is_available()\n",
    "                      else \"cpu\")\n",
    "print(f\"Using device: {device}\")\n",
    "\n",
    "env = gym.make(\"LunarLander-v2\")\n",
    "\n",
    "state_dim = env.observation_space.shape[0]\n",
    "action_dim = env.action_space.n\n",
    "\n",
    "model_dir = \"models\"\n",
    "model_files = [f for f in os.listdir(model_dir) if f.endswith('.pth')]\n",
    "\n",
    "results = []"
   ]
  },
  {
   "cell_type": "code",
   "execution_count": 4,
   "id": "4c72f418",
   "metadata": {},
   "outputs": [
    {
     "name": "stdout",
     "output_type": "stream",
     "text": [
      "🔍 Evaluating checkpoint_episode_1000.pth...\n",
      "✅ checkpoint_episode_1000.pth: Avg Reward = -101.44 ± 31.15\n",
      "🔍 Evaluating checkpoint_episode_3000.pth...\n",
      "✅ checkpoint_episode_3000.pth: Avg Reward = 65.51 ± 97.38\n",
      "🔍 Evaluating checkpoint_episode_3500.pth...\n",
      "✅ checkpoint_episode_3500.pth: Avg Reward = 180.55 ± 111.57\n",
      "🔍 Evaluating best_avg_model.pth...\n",
      "✅ best_avg_model.pth: Avg Reward = 211.54 ± 122.84\n",
      "🔍 Evaluating checkpoint_episode_500.pth...\n",
      "✅ checkpoint_episode_500.pth: Avg Reward = -169.29 ± 21.33\n",
      "🔍 Evaluating checkpoint_episode_1500.pth...\n",
      "✅ checkpoint_episode_1500.pth: Avg Reward = -3.79 ± 20.20\n",
      "🔍 Evaluating best_model.pth...\n",
      "✅ best_model.pth: Avg Reward = 196.07 ± 98.55\n",
      "🔍 Evaluating checkpoint_episode_2000.pth...\n",
      "✅ checkpoint_episode_2000.pth: Avg Reward = 22.16 ± 64.62\n",
      "🔍 Evaluating checkpoint_episode_0.pth...\n",
      "✅ checkpoint_episode_0.pth: Avg Reward = -622.85 ± 123.19\n",
      "🔍 Evaluating checkpoint_episode_2500.pth...\n",
      "✅ checkpoint_episode_2500.pth: Avg Reward = 202.49 ± 72.59\n",
      "🔍 Evaluating final_model.pth...\n",
      "✅ final_model.pth: Avg Reward = 222.46 ± 70.01\n"
     ]
    }
   ],
   "source": [
    "# ---------- Evaluate Each Model ----------\n",
    "for filename in model_files:\n",
    "    model_path = os.path.join(model_dir, filename)\n",
    "    try:\n",
    "        print(f\"🔍 Evaluating {filename}...\")\n",
    "        model = DQN(state_dim, action_dim).to(device)\n",
    "        checkpoint = torch.load(model_path, map_location=device)\n",
    "        model.load_state_dict(checkpoint['model_state_dict'])\n",
    "        model.eval()\n",
    "\n",
    "        mean_reward, std_reward = evaluate_model(model, env, episodes=10)\n",
    "        results.append((filename, mean_reward, std_reward))\n",
    "\n",
    "        print(f\"✅ {filename}: Avg Reward = {mean_reward:.2f} ± {std_reward:.2f}\")\n",
    "    except Exception as e:\n",
    "        print(f\"⚠️ Failed to evaluate {filename}: {e}\")"
   ]
  },
  {
   "cell_type": "code",
   "execution_count": 5,
   "id": "863175ce",
   "metadata": {},
   "outputs": [
    {
     "name": "stdout",
     "output_type": "stream",
     "text": [
      "\n",
      "📊 Evaluation Summary:\n",
      "final_model.pth                --> Avg Reward: 222.46 ± 70.01\n",
      "best_avg_model.pth             --> Avg Reward: 211.54 ± 122.84\n",
      "checkpoint_episode_2500.pth    --> Avg Reward: 202.49 ± 72.59\n",
      "best_model.pth                 --> Avg Reward: 196.07 ± 98.55\n",
      "checkpoint_episode_3500.pth    --> Avg Reward: 180.55 ± 111.57\n",
      "checkpoint_episode_3000.pth    --> Avg Reward: 65.51 ± 97.38\n",
      "checkpoint_episode_2000.pth    --> Avg Reward: 22.16 ± 64.62\n",
      "checkpoint_episode_1500.pth    --> Avg Reward: -3.79 ± 20.20\n",
      "checkpoint_episode_1000.pth    --> Avg Reward: -101.44 ± 31.15\n",
      "checkpoint_episode_500.pth     --> Avg Reward: -169.29 ± 21.33\n",
      "checkpoint_episode_0.pth       --> Avg Reward: -622.85 ± 123.19\n"
     ]
    }
   ],
   "source": [
    "# ---------- Summary ----------\n",
    "print(\"\\n📊 Evaluation Summary:\")\n",
    "for fname, mean_r, std_r in sorted(results, key=lambda x: x[1], reverse=True):\n",
    "    print(f\"{fname:30s} --> Avg Reward: {mean_r:.2f} ± {std_r:.2f}\")\n",
    "\n",
    "env.close()\n"
   ]
  }
 ],
 "metadata": {
  "kernelspec": {
   "display_name": "base",
   "language": "python",
   "name": "python3"
  },
  "language_info": {
   "codemirror_mode": {
    "name": "ipython",
    "version": 3
   },
   "file_extension": ".py",
   "mimetype": "text/x-python",
   "name": "python",
   "nbconvert_exporter": "python",
   "pygments_lexer": "ipython3",
   "version": "3.12.2"
  }
 },
 "nbformat": 4,
 "nbformat_minor": 5
}
